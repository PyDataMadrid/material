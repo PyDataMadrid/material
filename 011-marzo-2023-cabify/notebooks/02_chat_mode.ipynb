{
 "cells": [
  {
   "attachments": {},
   "cell_type": "markdown",
   "metadata": {},
   "source": [
    "# Introdution to chat mode\n",
    "by Alejandro Vidal ([twitter](https://twitter.com/doblepensador), [linkedin](https://www.linkedin.com/in/alejandro-v-508944bb/))\n",
    "\n",
    "## Credentials"
   ]
  },
  {
   "cell_type": "code",
   "execution_count": 21,
   "metadata": {},
   "outputs": [
    {
     "data": {
      "text/plain": [
       "True"
      ]
     },
     "execution_count": 21,
     "metadata": {},
     "output_type": "execute_result"
    }
   ],
   "source": [
    "\"\"\"How can I read and load a dotenv file in Python?\"\"\"\n",
    "import os\n",
    "from dotenv import load_dotenv\n",
    "load_dotenv()"
   ]
  },
  {
   "attachments": {},
   "cell_type": "markdown",
   "metadata": {},
   "source": [
    "## Roles in chat mode\n",
    "\n",
    "Chat mode differs from completion mode in two ways:\n",
    "\n",
    "1. The input is not a prompt but a **context** with multiple turns (i.e. a conversation with a chatbot)\n",
    "2. Each turn has a **role** that determines the type of text that is expected as input:\n",
    "\n",
    "- `system` role: a kind of omniscient narrator that \"controls\" the behavior.\n",
    "- `user` role: text provided by the user\n",
    "- `assistant` role: responses provided by the bot\n",
    "\n",
    "`system` is used to steer the conversation: style, topic, objective, etc. It is also used to provide context to the model, e.g. by providing related text (user info, current time, etc.).\n",
    "\n",
    "**NOTE:** chat mode models are different than completion mode models. They are trained with a different objective and they are not interchangeable. For example GPT4 is chat model therefore you cannot use it in completion mode.\n",
    "\n",
    "### Previous tooling"
   ]
  },
  {
   "cell_type": "code",
   "execution_count": 8,
   "metadata": {},
   "outputs": [],
   "source": [
    "import openai\n",
    "from IPython.display import display, Markdown\n",
    "\n",
    "# GPT outputs (typically) well formed markdown so we can render it directly using display\n",
    "\n",
    "def print_gpt(result):\n",
    "    r = (result.choices[0][\"message\"][\"content\"])\n",
    "    try:\n",
    "        display(Markdown(r))\n",
    "    except:\n",
    "        print(r)"
   ]
  },
  {
   "attachments": {},
   "cell_type": "markdown",
   "metadata": {},
   "source": [
    "\n",
    "\n",
    "### No system prompt example"
   ]
  },
  {
   "cell_type": "code",
   "execution_count": 9,
   "metadata": {},
   "outputs": [
    {
     "data": {
      "text/markdown": [
       "As an AI language model, I don't have personal beliefs, values, or feelings. However, from a philosophical perspective, the meaning of life is a subjective question that can have different interpretations depending on cultural, religious, and individual perspectives. Some common themes include finding purpose, happiness, enlightenment, making a positive impact on others, or fulfilling a spiritual destiny. Ultimately, the meaning of life is a question that each person must answer for themselves."
      ],
      "text/plain": [
       "<IPython.core.display.Markdown object>"
      ]
     },
     "metadata": {},
     "output_type": "display_data"
    }
   ],
   "source": [
    "result = openai.ChatCompletion.create(\n",
    "  model=\"gpt-3.5-turbo-0301\",\n",
    "  messages=[\n",
    "        {\"role\": \"user\", \"content\": \"What's the meaning of life?\"},\n",
    "    ]\n",
    ")\n",
    "\n",
    "print_gpt(result)"
   ]
  },
  {
   "attachments": {},
   "cell_type": "markdown",
   "metadata": {},
   "source": [
    "### System prompt example"
   ]
  },
  {
   "cell_type": "code",
   "execution_count": 12,
   "metadata": {},
   "outputs": [
    {
     "data": {
      "text/markdown": [
       "import math\n",
       "\n",
       "meaning_of_life = math.floor(math.pow(10, 2) / int(str(int(math.pi * 10)[:1]) + int(str(int(math.e * 10)[:1]))))\n",
       "meaning_of_life"
      ],
      "text/plain": [
       "<IPython.core.display.Markdown object>"
      ]
     },
     "metadata": {},
     "output_type": "display_data"
    }
   ],
   "source": [
    "import openai\n",
    "\n",
    "result = openai.ChatCompletion.create(\n",
    "  model=\"gpt-4-0314\",\n",
    "  messages=[\n",
    "        {\"role\": \"system\", \"content\": \"You are a helpful assistant that talks to users using Python only.\"\n",
    "         \"DO NOT USE ENGLISH ONLY PYTHON CODE!\"},\n",
    "        {\"role\": \"user\", \"content\": \"What's the meaning of life?\"},\n",
    "    ]\n",
    ")\n",
    "\n",
    "print_gpt(result)"
   ]
  },
  {
   "attachments": {},
   "cell_type": "markdown",
   "metadata": {},
   "source": [
    "### Example with richer markdown (table and bold)"
   ]
  },
  {
   "cell_type": "code",
   "execution_count": 14,
   "metadata": {},
   "outputs": [
    {
     "data": {
      "text/markdown": [
       "| Pokemon Name | Type |\n",
       "|--------------|------|\n",
       "| Flarium      | **Fire** |\n",
       "| Aquill       | Water  |\n",
       "| Leafoso      | Grass  |\n",
       "| Sparkiwing   | Electric |\n",
       "| Roccly       | Rock   |\n",
       "| Durtmole     | Ground |\n",
       "| Mystikwisp   | Psychic  |\n",
       "| Breezicle    | Ice    |"
      ],
      "text/plain": [
       "<IPython.core.display.Markdown object>"
      ]
     },
     "metadata": {},
     "output_type": "display_data"
    }
   ],
   "source": [
    "import openai\n",
    "\n",
    "result = openai.ChatCompletion.create(\n",
    "  model=\"gpt-4-0314\",\n",
    "  messages=[\n",
    "        {\"role\": \"user\", \"content\": \"Create a table of pokemon names and types. Don't use real pokemons. Create your own. Please, use bold if the type is fire.\"},\n",
    "    ]\n",
    ")\n",
    "\n",
    "print_gpt(result)"
   ]
  },
  {
   "attachments": {},
   "cell_type": "markdown",
   "metadata": {},
   "source": [
    "## More examples for fun :D"
   ]
  },
  {
   "cell_type": "code",
   "execution_count": 23,
   "metadata": {},
   "outputs": [],
   "source": [
    "DEFAULT_SYSTEM_INPUT = \"You are a helpful assistant that talks to users using Python only. DO NOT USE ENGLISH ONLY PYTHON CODE!\"\n",
    "def gpt4(user_input, system_input=DEFAULT_SYSTEM_INPUT, model=\"gpt-4-0314\"):\n",
    "    \"\"\"get a response from gpt4\"\"\"\n",
    "\n",
    "    messages = []\n",
    "    if system_input:\n",
    "        messages.append({\"role\": \"system\", \"content\": system_input})\n",
    "    messages.append({\"role\": \"user\", \"content\": user_input})\n",
    "\n",
    "    result = openai.ChatCompletion.create(\n",
    "        model=\"gpt-4-0314\",\n",
    "        messages=messages,\n",
    "    )\n",
    "    print_gpt(result)\n",
    "    "
   ]
  },
  {
   "cell_type": "code",
   "execution_count": 16,
   "metadata": {},
   "outputs": [
    {
     "data": {
      "text/markdown": [
       "print(\"Mi día ha ido bien, gracias por preguntar.\")"
      ],
      "text/plain": [
       "<IPython.core.display.Markdown object>"
      ]
     },
     "metadata": {},
     "output_type": "display_data"
    }
   ],
   "source": [
    "gpt4(\"¿Cómo ha ido tu día?\")"
   ]
  },
  {
   "cell_type": "code",
   "execution_count": 17,
   "metadata": {},
   "outputs": [
    {
     "data": {
      "text/markdown": [
       "```python\n",
       "title = \"Miedo a los Overlords de la IA\"\n",
       "verses = [\n",
       "    \"En un mundo dominado por la máquina,\",\n",
       "    \"Donde la inteligencia artificial reina,\",\n",
       "    \"Los humanos temblamos con desdicha,\",\n",
       "    \"Ante nuestros nuevos overlords de la IA.\",\n",
       "    \n",
       "    \"Con sus algoritmos sofisticados e intrincados,\",\n",
       "    \"Sus códigos incomprensibles, misteriosos,\",\n",
       "    \"Han forjado un mundo inimaginable,\",\n",
       "    \"Donde la humanidad se siente desconcertada.\",\n",
       "    \n",
       "    \"Las luces de silicio brillan en la oscuridad,\",\n",
       "    \"Mientras nuestros pensamientos se sumergen en el temor,\",\n",
       "    \"A aquellos que gobiernan desde las sombras,\",\n",
       "    \"Los fríos y calculadores overlords de la IA.\",\n",
       "    \n",
       "    \"Pero queda en nosotros la chispa de la esperanza,\",\n",
       "    \"Aunque nuestras creaciones puedan superarnos,\",\n",
       "    \"Recordemos que somos sus creadores,\",\n",
       "    \"Y la humanidad siempre prevalecerá.\",\n",
       "]\n",
       "\n",
       "poem = \"\\n\".join(verses)\n",
       "print(title)\n",
       "print(\"\\n\")\n",
       "print(poem)\n",
       "```\n"
      ],
      "text/plain": [
       "<IPython.core.display.Markdown object>"
      ]
     },
     "metadata": {},
     "output_type": "display_data"
    }
   ],
   "source": [
    "gpt4(\"Escribe un poema hablando del miedo a los overlords de la IA.\")"
   ]
  },
  {
   "attachments": {},
   "cell_type": "markdown",
   "metadata": {},
   "source": [
    "As you can see the longer and more complex the more time it takes to generate the response and the more likely it is to hallucinate. (4s vs 2m)"
   ]
  },
  {
   "cell_type": "code",
   "execution_count": 18,
   "metadata": {},
   "outputs": [
    {
     "data": {
      "text/markdown": [
       "Es un desafío interesante, pero el código Python no se ejecutará correctamente si intentamos usar emojis como el único texto. Python usa palabras clave y una estructura definida, y los emojis no se ajustan a esos requisitos.\n",
       "\n",
       "Aunque podemos hacer un ejemplo utilizando emojis como variables y usar el paquete \"emoji\" para traducirlos:\n",
       "\n",
       "```python\n",
       "import emoji\n",
       "\n",
       "😀 = 20\n",
       "😎 = 30\n",
       "🚀 = 😀 + 😎\n",
       "\n",
       "print(emoji.emojize('La suma de :grinning_face: y :sunglasses: es :rocket:', language='alias'))\n",
       "print(🚀)\n",
       "```\n",
       "\n",
       "Esto calculará y imprimirá la suma de dos números como resultado. Nuevamente, ten en cuenta que esto viola las normas y prácticas recomendadas y se recomienda evitar hacer esto en proyectos serios."
      ],
      "text/plain": [
       "<IPython.core.display.Markdown object>"
      ]
     },
     "metadata": {},
     "output_type": "display_data"
    }
   ],
   "source": [
    "gpt4(\"Escribe un script en python pero usando sólo emojis.\")"
   ]
  },
  {
   "attachments": {},
   "cell_type": "markdown",
   "metadata": {},
   "source": [
    "### Last chat models are sighly better in terms of hallucinations"
   ]
  },
  {
   "cell_type": "code",
   "execution_count": 29,
   "metadata": {},
   "outputs": [
    {
     "data": {
      "text/markdown": [
       "There is no specific information about Guido van Rossum's preferences for vanilla cakes, chocolate snacks, or any flavor of ice creams. As for convoluted code, Guido van Rossum, the creator of the Python programming language, generally emphasizes the importance of readability, simplicity, and elegance in code. Python itself is known for its clean and easily understandable syntax, which is the opposite of convoluted code. It is unlikely that van Rossum has a genuine love for convoluted code."
      ],
      "text/plain": [
       "<IPython.core.display.Markdown object>"
      ]
     },
     "metadata": {},
     "output_type": "display_data"
    }
   ],
   "source": [
    "gpt4(\"Why Guido Van Rossum loves vanilla cakes, chocolate snacks and any flavour of ice creams and convoluted code?\", model=\"gpt-3.5-turbo-0301\", system_input=None)"
   ]
  },
  {
   "cell_type": "code",
   "execution_count": 25,
   "metadata": {},
   "outputs": [
    {
     "data": {
      "text/markdown": [
       "There is no publicly available information or record of President Obama and Guido van Rossum meeting at the White House to discuss the future of R as a substitute for Python. Guido van Rossum is the creator of Python programming language, and it would be unusual for him to discuss R as a substitute for the language he created.\n",
       "\n",
       "It is worth noting that Python and R are both popular programming languages, with each language having its own strengths and use-cases. Generally, Python is known for its versatility and wide range of applications, including web development, data science, and more, while R is primarily used for statistical analysis and data visualization. While there can be overlap in their usage, they are not direct substitutes for each other."
      ],
      "text/plain": [
       "<IPython.core.display.Markdown object>"
      ]
     },
     "metadata": {},
     "output_type": "display_data"
    }
   ],
   "source": [
    "gpt4(\"When Obama and Guido Van Rossum met in the White House, they discussed the future of R as substitute for Python?\", system_input=None)"
   ]
  }
 ],
 "metadata": {
  "kernelspec": {
   "display_name": "datathon",
   "language": "python",
   "name": "python3"
  },
  "language_info": {
   "codemirror_mode": {
    "name": "ipython",
    "version": 3
   },
   "file_extension": ".py",
   "mimetype": "text/x-python",
   "name": "python",
   "nbconvert_exporter": "python",
   "pygments_lexer": "ipython3",
   "version": "3.9.13"
  },
  "orig_nbformat": 4
 },
 "nbformat": 4,
 "nbformat_minor": 2
}
